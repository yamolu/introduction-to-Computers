{
  "nbformat": 4,
  "nbformat_minor": 0,
  "metadata": {
    "colab": {
      "name": "0509.ipynb",
      "provenance": [],
      "authorship_tag": "ABX9TyPzDrMzYcXUgVG8O/EVyjdW",
      "include_colab_link": true
    },
    "kernelspec": {
      "name": "python3",
      "display_name": "Python 3"
    },
    "language_info": {
      "name": "python"
    }
  },
  "cells": [
    {
      "cell_type": "markdown",
      "metadata": {
        "id": "view-in-github",
        "colab_type": "text"
      },
      "source": [
        "<a href=\"https://colab.research.google.com/github/yamolu/introduction-to-Computers/blob/main/0509.ipynb\" target=\"_parent\"><img src=\"https://colab.research.google.com/assets/colab-badge.svg\" alt=\"Open In Colab\"/></a>"
      ]
    },
    {
      "cell_type": "code",
      "execution_count": 5,
      "metadata": {
        "colab": {
          "base_uri": "https://localhost:8080/"
        },
        "id": "BwJema3E7xpF",
        "outputId": "edcad660-0b9e-4b2b-a622-6ea6db65f6a1"
      },
      "outputs": [
        {
          "output_type": "stream",
          "name": "stdout",
          "text": [
            "請輸入你的體溫36.9\n",
            "體溫正常!\n"
          ]
        }
      ],
      "source": [
        "temp= float(input(\"請輸入你的體溫\"))\n",
        "if temp>=37.5:\n",
        "  print(\"體溫過高!\")\n",
        "elif temp >= 37 and temp< 37.4:\n",
        "  print(\"體溫略高!\")\n",
        "elif temp >=34 and temp<= 36.9:\n",
        "  print(\"體溫正常!\")\n",
        "else:\n",
        "  print(\"體溫異常,請重新量測!\")"
      ]
    },
    {
      "cell_type": "code",
      "source": [
        "score= float(input(\"請輸入你的成績\"))\n",
        "if score>=90:\n",
        "    print(\"A\")\n",
        "elif score>=80 and score<=89:\n",
        "    print(\"B\")\n",
        "elif score>=70 and score<=79:\n",
        "    print(\"C\")\n",
        "elif score>=60 and score<=69:\n",
        "    print(\"D\")\n",
        "else:\n",
        "    print(\"E\")"
      ],
      "metadata": {
        "colab": {
          "base_uri": "https://localhost:8080/"
        },
        "id": "zwZJTCD-_lTS",
        "outputId": "4f307e8a-b618-4a7a-c192-c6f25bac2b98"
      },
      "execution_count": 9,
      "outputs": [
        {
          "output_type": "stream",
          "name": "stdout",
          "text": [
            "請輸入你的成績30\n",
            "E\n"
          ]
        }
      ]
    },
    {
      "cell_type": "code",
      "source": [
        "money = int(input(\"請輸入購物金額:\"))\n",
        "if(money >= 10000):\n",
        "  if(money >=100000):\n",
        "    print(\"八折\",money*0.8, end=\"元\\n\")\n",
        "  elif(money>=50000):\n",
        "    print(\"八五折\",money*0.85, end=\"元\\n\")\n",
        "  elif(money>=30000):\n",
        "    print(\"九折\",money*0.9, end=\"元\\n\")\n",
        "  else:\n",
        "    print(\"九五折\",money*0.95, end=\"元\\n\")\n",
        "else:\n",
        "  print(\"沒打折\",money, end=\"元\\n\")\n",
        "  "
      ],
      "metadata": {
        "colab": {
          "base_uri": "https://localhost:8080/"
        },
        "id": "mAVXqaGeE67r",
        "outputId": "a28b1ec1-1625-4ce1-af75-0f201f11ab51"
      },
      "execution_count": 13,
      "outputs": [
        {
          "output_type": "stream",
          "name": "stdout",
          "text": [
            "請輸入購物金額:30000\n",
            "九折 27000.0元\n"
          ]
        }
      ]
    },
    {
      "cell_type": "code",
      "source": [
        "month =int(input(\"請輸入月份\"))\n",
        "if month==3 or month==4 or month==5:\n",
        "  print(month,\"月是春天!\")\n",
        "elif month==6 or month==7 or month==8:\n",
        "  print(month,\"月是夏天!\")\n",
        "elif month==9 or month==10 or month==11:\n",
        "  print(month,\"月是秋天!\")\n",
        "elif month==12 or month==1 or month==2:\n",
        "  print(month,\"月是冬天!\")\n",
        "else:\n",
        "  print(\"月份不在範圍內!\")"
      ],
      "metadata": {
        "colab": {
          "base_uri": "https://localhost:8080/"
        },
        "id": "dx9sLpe4HaN0",
        "outputId": "bb125d88-4359-4bbb-e861-f8b17fab7e0b"
      },
      "execution_count": 14,
      "outputs": [
        {
          "output_type": "stream",
          "name": "stdout",
          "text": [
            "請輸入月份12\n",
            "12 月是冬天!\n"
          ]
        }
      ]
    },
    {
      "cell_type": "code",
      "source": [
        "money = int(input(\"請輸入購物金額:\"))\n",
        "if(money >= 10000):\n",
        "  if(money >=100000):\n",
        "    print(\"八折\",money*0.8, end=\"元\\n\")\n",
        "  elif(money>=50000):\n",
        "    print(\"八五折\",money*0.85, end=\"元\\n\")\n",
        "  elif(money>=30000):\n",
        "    print(\"九折\",money*0.9, end=\"元\\n\")\n",
        "  else:\n",
        "    print(\"九五折\",money*0.95, end=\"元\\n\")\n",
        "else:\n",
        "  print(\"沒打折\",money, end=\"元\\n\")\n",
        "  "
      ],
      "metadata": {
        "colab": {
          "base_uri": "https://localhost:8080/"
        },
        "outputId": "fd8c6bf5-c2b5-4726-f3bd-db83ca30d160",
        "id": "vm4B70h-MQ2y"
      },
      "execution_count": 15,
      "outputs": [
        {
          "output_type": "stream",
          "name": "stdout",
          "text": [
            "請輸入購物金額:10000\n",
            "九五折 9500.0元\n"
          ]
        }
      ]
    },
    {
      "cell_type": "code",
      "source": [
        "income =int(input(\"請輸入收入\"))\n",
        "if(income >=300000):\n",
        "  if(income >=2000000):\n",
        "    print(\"付稅金額:\",income*0.3, end=\"元\\n\")\n",
        "  elif(income >=1000000):\n",
        "    print(\"付稅金額:\",income*0.21, end=\"元\\n\")\n",
        "  elif(income >=600000):\n",
        "    print(\"付稅金額:\",income*0.13, end=\"元\\n\")\n",
        "  elif(income >=300000):\n",
        "    print(\"付稅金額:\",income*0.06, end=\"元\\n\")\n",
        "else:\n",
        "  print(\"付稅金額:0元\")"
      ],
      "metadata": {
        "colab": {
          "base_uri": "https://localhost:8080/"
        },
        "id": "XazSPYnuLSU4",
        "outputId": "d528855a-80c0-4a5d-c579-2f0d26961f78"
      },
      "execution_count": 25,
      "outputs": [
        {
          "output_type": "stream",
          "name": "stdout",
          "text": [
            "請輸入收入300000\n",
            "付稅金額: 18000.0元\n"
          ]
        }
      ]
    },
    {
      "cell_type": "markdown",
      "source": [
        ""
      ],
      "metadata": {
        "id": "epw4cx-vLhIG"
      }
    }
  ]
}